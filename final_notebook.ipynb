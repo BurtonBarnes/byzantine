{
 "cells": [
  {
   "cell_type": "markdown",
   "id": "9678d6ed",
   "metadata": {},
   "source": [
    "# Byzantine\n",
    "## Goal:\n",
    "* Discover information about the Byzantine Emperors"
   ]
  },
  {
   "cell_type": "markdown",
   "id": "712d8ec5",
   "metadata": {},
   "source": [
    "# Imports"
   ]
  },
  {
   "cell_type": "code",
   "execution_count": 1,
   "id": "bbb33443",
   "metadata": {},
   "outputs": [],
   "source": [
    "import pandas as pd\n",
    "import numpy as np\n",
    "import os\n",
    "import matplotlib.pyplot as plt\n",
    "import statistics\n",
    "\n",
    "# acquire\n",
    "from pydataset import data\n",
    "import seaborn as sns\n",
    "\n",
    "# turn off pink warning boxes\n",
    "import warnings\n",
    "warnings.filterwarnings(\"ignore\")\n",
    "\n",
    "%matplotlib inline\n",
    "import pydataset\n",
    "from sklearn.neighbors import KNeighborsClassifier\n",
    "from sklearn.preprocessing import MinMaxScaler, StandardScaler, RobustScaler, QuantileTransformer\n",
    "from scipy.stats import norm\n",
    "import warnings\n",
    "warnings.filterwarnings(\"ignore\")\n",
    "from sklearn.model_selection import train_test_split\n",
    "from sklearn.linear_model import LinearRegression\n",
    "\n",
    "np.random.seed(123)"
   ]
  },
  {
   "cell_type": "markdown",
   "id": "a8d6209f",
   "metadata": {},
   "source": [
    "# Acquire\n",
    "* Data acquired from kaggle\n",
    "* 7 columns and 95 rows\n",
    "* Each row represents one emperor\n",
    "* Each column represents a feature describing that emperor"
   ]
  },
  {
   "cell_type": "markdown",
   "id": "5c298868",
   "metadata": {},
   "source": [
    "# Prepare\n",
    "* Renamed columns to promote readability\n",
    "* Created new column Length of reign"
   ]
  },
  {
   "cell_type": "markdown",
   "id": "a0342e60",
   "metadata": {},
   "source": [
    "# Data Dictionary\n",
    "| Feature | Definition |\n",
    "| :- | :- |\n",
    "|Start_of_reign| The year the emperor became emperor|\n",
    "|End_of_reign| The year the emperor stopped being emperor|\n",
    "|Year_of_birth| The year the emperor was born|\n",
    "|Year_of_death| The year when the emperor died|\n",
    "|Location_of_birth| Where the emperor was born|\n",
    "|Location_of_death| Where the emperor died|\n",
    "|Cause_of_death| What caused the emperors death|\n",
    "|Dynasty| The name of the dynasty the emperor belonged to|\n",
    "|Length_of_reign| How long the emperor ruled|"
   ]
  },
  {
   "cell_type": "code",
   "execution_count": 2,
   "id": "90fbcb99",
   "metadata": {},
   "outputs": [
    {
     "data": {
      "text/html": [
       "<div>\n",
       "<style scoped>\n",
       "    .dataframe tbody tr th:only-of-type {\n",
       "        vertical-align: middle;\n",
       "    }\n",
       "\n",
       "    .dataframe tbody tr th {\n",
       "        vertical-align: top;\n",
       "    }\n",
       "\n",
       "    .dataframe thead th {\n",
       "        text-align: right;\n",
       "    }\n",
       "</style>\n",
       "<table border=\"1\" class=\"dataframe\">\n",
       "  <thead>\n",
       "    <tr style=\"text-align: right;\">\n",
       "      <th></th>\n",
       "      <th>Start_of_reign</th>\n",
       "      <th>End_of_reign</th>\n",
       "      <th>Year_of_birth</th>\n",
       "      <th>Year_of_death</th>\n",
       "      <th>Location_of_birth</th>\n",
       "      <th>Location_of_death</th>\n",
       "      <th>Cause_of_death</th>\n",
       "      <th>Dinasty</th>\n",
       "    </tr>\n",
       "    <tr>\n",
       "      <th>Name</th>\n",
       "      <th></th>\n",
       "      <th></th>\n",
       "      <th></th>\n",
       "      <th></th>\n",
       "      <th></th>\n",
       "      <th></th>\n",
       "      <th></th>\n",
       "      <th></th>\n",
       "    </tr>\n",
       "  </thead>\n",
       "  <tbody>\n",
       "    <tr>\n",
       "      <th>Constantine I</th>\n",
       "      <td>306</td>\n",
       "      <td>337</td>\n",
       "      <td>280</td>\n",
       "      <td>337</td>\n",
       "      <td>Moesia</td>\n",
       "      <td>Bithynia</td>\n",
       "      <td>Natural Causes</td>\n",
       "      <td>Constantinian</td>\n",
       "    </tr>\n",
       "    <tr>\n",
       "      <th>Constantine II</th>\n",
       "      <td>337</td>\n",
       "      <td>361</td>\n",
       "      <td>317</td>\n",
       "      <td>361</td>\n",
       "      <td>Pannonia</td>\n",
       "      <td>Cilicia</td>\n",
       "      <td>Natural Causes</td>\n",
       "      <td>Constantinian</td>\n",
       "    </tr>\n",
       "    <tr>\n",
       "      <th>Julian</th>\n",
       "      <td>361</td>\n",
       "      <td>363</td>\n",
       "      <td>331</td>\n",
       "      <td>363</td>\n",
       "      <td>Constantinople</td>\n",
       "      <td>Mesopotamia</td>\n",
       "      <td>Died on Campaign</td>\n",
       "      <td>Constantinian</td>\n",
       "    </tr>\n",
       "    <tr>\n",
       "      <th>Jovian</th>\n",
       "      <td>363</td>\n",
       "      <td>364</td>\n",
       "      <td>331</td>\n",
       "      <td>364</td>\n",
       "      <td>Moesia</td>\n",
       "      <td>Bithynia</td>\n",
       "      <td>?</td>\n",
       "      <td>non-dynastic</td>\n",
       "    </tr>\n",
       "    <tr>\n",
       "      <th>Valentinian I</th>\n",
       "      <td>364</td>\n",
       "      <td>375</td>\n",
       "      <td>321</td>\n",
       "      <td>375</td>\n",
       "      <td>Panonia</td>\n",
       "      <td>Panonia</td>\n",
       "      <td>Natural Causes</td>\n",
       "      <td>Valentinian</td>\n",
       "    </tr>\n",
       "  </tbody>\n",
       "</table>\n",
       "</div>"
      ],
      "text/plain": [
       "                Start_of_reign  End_of_reign Year_of_birth Year_of_death  \\\n",
       "Name                                                                       \n",
       "Constantine I              306           337           280           337   \n",
       "Constantine II             337           361           317           361   \n",
       "Julian                     361           363           331           363   \n",
       "Jovian                     363           364           331           364   \n",
       "Valentinian I              364           375           321           375   \n",
       "\n",
       "               Location_of_birth Location_of_death    Cause_of_death  \\\n",
       "Name                                                                   \n",
       "Constantine I             Moesia          Bithynia    Natural Causes   \n",
       "Constantine II          Pannonia           Cilicia    Natural Causes   \n",
       "Julian            Constantinople       Mesopotamia  Died on Campaign   \n",
       "Jovian                    Moesia          Bithynia                 ?   \n",
       "Valentinian I            Panonia           Panonia    Natural Causes   \n",
       "\n",
       "                      Dinasty  \n",
       "Name                           \n",
       "Constantine I   Constantinian  \n",
       "Constantine II  Constantinian  \n",
       "Julian          Constantinian  \n",
       "Jovian           non-dynastic  \n",
       "Valentinian I     Valentinian  "
      ]
     },
     "execution_count": 2,
     "metadata": {},
     "output_type": "execute_result"
    }
   ],
   "source": [
    "# Acquire data from kaggle csv\n",
    "df = pd.read_csv('ByzantineEmperors.csv', index_col=0)\n",
    "df.head()"
   ]
  },
  {
   "cell_type": "code",
   "execution_count": 3,
   "id": "93515b69",
   "metadata": {},
   "outputs": [],
   "source": [
    "# add a column that measures the length of an emerors reign\n",
    "df['Length_of_reign'] = (df['End_of_reign']-df['Start_of_reign'])\n",
    "# Rename a column\n",
    "df = df.rename(columns={'Dinasty': 'Dynasty'})"
   ]
  },
  {
   "cell_type": "markdown",
   "id": "05d9bf1c",
   "metadata": {},
   "source": [
    "## A brief look at the data"
   ]
  },
  {
   "cell_type": "code",
   "execution_count": 4,
   "id": "5343b729",
   "metadata": {},
   "outputs": [
    {
     "data": {
      "text/html": [
       "<div>\n",
       "<style scoped>\n",
       "    .dataframe tbody tr th:only-of-type {\n",
       "        vertical-align: middle;\n",
       "    }\n",
       "\n",
       "    .dataframe tbody tr th {\n",
       "        vertical-align: top;\n",
       "    }\n",
       "\n",
       "    .dataframe thead th {\n",
       "        text-align: right;\n",
       "    }\n",
       "</style>\n",
       "<table border=\"1\" class=\"dataframe\">\n",
       "  <thead>\n",
       "    <tr style=\"text-align: right;\">\n",
       "      <th></th>\n",
       "      <th>Start_of_reign</th>\n",
       "      <th>End_of_reign</th>\n",
       "      <th>Year_of_birth</th>\n",
       "      <th>Year_of_death</th>\n",
       "      <th>Location_of_birth</th>\n",
       "      <th>Location_of_death</th>\n",
       "      <th>Cause_of_death</th>\n",
       "      <th>Dynasty</th>\n",
       "      <th>Length_of_reign</th>\n",
       "    </tr>\n",
       "    <tr>\n",
       "      <th>Name</th>\n",
       "      <th></th>\n",
       "      <th></th>\n",
       "      <th></th>\n",
       "      <th></th>\n",
       "      <th></th>\n",
       "      <th></th>\n",
       "      <th></th>\n",
       "      <th></th>\n",
       "      <th></th>\n",
       "    </tr>\n",
       "  </thead>\n",
       "  <tbody>\n",
       "    <tr>\n",
       "      <th>Constantine I</th>\n",
       "      <td>306</td>\n",
       "      <td>337</td>\n",
       "      <td>280</td>\n",
       "      <td>337</td>\n",
       "      <td>Moesia</td>\n",
       "      <td>Bithynia</td>\n",
       "      <td>Natural Causes</td>\n",
       "      <td>Constantinian</td>\n",
       "      <td>31</td>\n",
       "    </tr>\n",
       "    <tr>\n",
       "      <th>Constantine II</th>\n",
       "      <td>337</td>\n",
       "      <td>361</td>\n",
       "      <td>317</td>\n",
       "      <td>361</td>\n",
       "      <td>Pannonia</td>\n",
       "      <td>Cilicia</td>\n",
       "      <td>Natural Causes</td>\n",
       "      <td>Constantinian</td>\n",
       "      <td>24</td>\n",
       "    </tr>\n",
       "    <tr>\n",
       "      <th>Julian</th>\n",
       "      <td>361</td>\n",
       "      <td>363</td>\n",
       "      <td>331</td>\n",
       "      <td>363</td>\n",
       "      <td>Constantinople</td>\n",
       "      <td>Mesopotamia</td>\n",
       "      <td>Died on Campaign</td>\n",
       "      <td>Constantinian</td>\n",
       "      <td>2</td>\n",
       "    </tr>\n",
       "    <tr>\n",
       "      <th>Jovian</th>\n",
       "      <td>363</td>\n",
       "      <td>364</td>\n",
       "      <td>331</td>\n",
       "      <td>364</td>\n",
       "      <td>Moesia</td>\n",
       "      <td>Bithynia</td>\n",
       "      <td>?</td>\n",
       "      <td>non-dynastic</td>\n",
       "      <td>1</td>\n",
       "    </tr>\n",
       "    <tr>\n",
       "      <th>Valentinian I</th>\n",
       "      <td>364</td>\n",
       "      <td>375</td>\n",
       "      <td>321</td>\n",
       "      <td>375</td>\n",
       "      <td>Panonia</td>\n",
       "      <td>Panonia</td>\n",
       "      <td>Natural Causes</td>\n",
       "      <td>Valentinian</td>\n",
       "      <td>11</td>\n",
       "    </tr>\n",
       "  </tbody>\n",
       "</table>\n",
       "</div>"
      ],
      "text/plain": [
       "                Start_of_reign  End_of_reign Year_of_birth Year_of_death  \\\n",
       "Name                                                                       \n",
       "Constantine I              306           337           280           337   \n",
       "Constantine II             337           361           317           361   \n",
       "Julian                     361           363           331           363   \n",
       "Jovian                     363           364           331           364   \n",
       "Valentinian I              364           375           321           375   \n",
       "\n",
       "               Location_of_birth Location_of_death    Cause_of_death  \\\n",
       "Name                                                                   \n",
       "Constantine I             Moesia          Bithynia    Natural Causes   \n",
       "Constantine II          Pannonia           Cilicia    Natural Causes   \n",
       "Julian            Constantinople       Mesopotamia  Died on Campaign   \n",
       "Jovian                    Moesia          Bithynia                 ?   \n",
       "Valentinian I            Panonia           Panonia    Natural Causes   \n",
       "\n",
       "                      Dynasty  Length_of_reign  \n",
       "Name                                            \n",
       "Constantine I   Constantinian               31  \n",
       "Constantine II  Constantinian               24  \n",
       "Julian          Constantinian                2  \n",
       "Jovian           non-dynastic                1  \n",
       "Valentinian I     Valentinian               11  "
      ]
     },
     "execution_count": 4,
     "metadata": {},
     "output_type": "execute_result"
    }
   ],
   "source": [
    "df.head()"
   ]
  },
  {
   "cell_type": "markdown",
   "id": "cb16ab8f",
   "metadata": {},
   "source": [
    "## A summary of the data "
   ]
  },
  {
   "cell_type": "code",
   "execution_count": 5,
   "id": "c70a8b9e",
   "metadata": {},
   "outputs": [
    {
     "data": {
      "text/html": [
       "<div>\n",
       "<style scoped>\n",
       "    .dataframe tbody tr th:only-of-type {\n",
       "        vertical-align: middle;\n",
       "    }\n",
       "\n",
       "    .dataframe tbody tr th {\n",
       "        vertical-align: top;\n",
       "    }\n",
       "\n",
       "    .dataframe thead th {\n",
       "        text-align: right;\n",
       "    }\n",
       "</style>\n",
       "<table border=\"1\" class=\"dataframe\">\n",
       "  <thead>\n",
       "    <tr style=\"text-align: right;\">\n",
       "      <th></th>\n",
       "      <th>Start_of_reign</th>\n",
       "      <th>End_of_reign</th>\n",
       "      <th>Length_of_reign</th>\n",
       "    </tr>\n",
       "  </thead>\n",
       "  <tbody>\n",
       "    <tr>\n",
       "      <th>count</th>\n",
       "      <td>95.000000</td>\n",
       "      <td>95.000000</td>\n",
       "      <td>95.000000</td>\n",
       "    </tr>\n",
       "    <tr>\n",
       "      <th>mean</th>\n",
       "      <td>866.957895</td>\n",
       "      <td>880.147368</td>\n",
       "      <td>13.189474</td>\n",
       "    </tr>\n",
       "    <tr>\n",
       "      <th>std</th>\n",
       "      <td>314.735685</td>\n",
       "      <td>315.495422</td>\n",
       "      <td>13.076123</td>\n",
       "    </tr>\n",
       "    <tr>\n",
       "      <th>min</th>\n",
       "      <td>306.000000</td>\n",
       "      <td>337.000000</td>\n",
       "      <td>0.000000</td>\n",
       "    </tr>\n",
       "    <tr>\n",
       "      <th>25%</th>\n",
       "      <td>625.500000</td>\n",
       "      <td>641.000000</td>\n",
       "      <td>3.000000</td>\n",
       "    </tr>\n",
       "    <tr>\n",
       "      <th>50%</th>\n",
       "      <td>842.000000</td>\n",
       "      <td>867.000000</td>\n",
       "      <td>8.000000</td>\n",
       "    </tr>\n",
       "    <tr>\n",
       "      <th>75%</th>\n",
       "      <td>1099.500000</td>\n",
       "      <td>1130.500000</td>\n",
       "      <td>21.500000</td>\n",
       "    </tr>\n",
       "    <tr>\n",
       "      <th>max</th>\n",
       "      <td>1449.000000</td>\n",
       "      <td>1453.000000</td>\n",
       "      <td>50.000000</td>\n",
       "    </tr>\n",
       "  </tbody>\n",
       "</table>\n",
       "</div>"
      ],
      "text/plain": [
       "       Start_of_reign  End_of_reign  Length_of_reign\n",
       "count       95.000000     95.000000        95.000000\n",
       "mean       866.957895    880.147368        13.189474\n",
       "std        314.735685    315.495422        13.076123\n",
       "min        306.000000    337.000000         0.000000\n",
       "25%        625.500000    641.000000         3.000000\n",
       "50%        842.000000    867.000000         8.000000\n",
       "75%       1099.500000   1130.500000        21.500000\n",
       "max       1449.000000   1453.000000        50.000000"
      ]
     },
     "execution_count": 5,
     "metadata": {},
     "output_type": "execute_result"
    }
   ],
   "source": [
    "df.describe()"
   ]
  },
  {
   "cell_type": "markdown",
   "id": "c810b728",
   "metadata": {},
   "source": [
    "# Exploration"
   ]
  },
  {
   "cell_type": "code",
   "execution_count": 6,
   "id": "0d50d478",
   "metadata": {},
   "outputs": [
    {
     "data": {
      "text/plain": [
       "([<matplotlib.axis.XTick at 0x7f89839be430>,\n",
       "  <matplotlib.axis.XTick at 0x7f89839be400>,\n",
       "  <matplotlib.axis.XTick at 0x7f89839fb760>,\n",
       "  <matplotlib.axis.XTick at 0x7f8983a91820>,\n",
       "  <matplotlib.axis.XTick at 0x7f8983a91c10>,\n",
       "  <matplotlib.axis.XTick at 0x7f8983aa33a0>,\n",
       "  <matplotlib.axis.XTick at 0x7f8983aa3af0>,\n",
       "  <matplotlib.axis.XTick at 0x7f8983aa9280>],\n",
       " [Text(0, 0, 'Natural Causes'),\n",
       "  Text(1, 0, 'Died on Campaign'),\n",
       "  Text(2, 0, '?'),\n",
       "  Text(3, 0, 'Murder'),\n",
       "  Text(4, 0, 'Accident'),\n",
       "  Text(5, 0, 'Illness'),\n",
       "  Text(6, 0, 'Other Emperor'),\n",
       "  Text(7, 0, 'Mutilated and Deposed')])"
      ]
     },
     "execution_count": 6,
     "metadata": {},
     "output_type": "execute_result"
    },
    {
     "data": {
      "image/png": "[encoded data removed]",
      "text/plain": [
       "<Figure size 432x288 with 1 Axes>"
      ]
     },
     "metadata": {
      "needs_background": "light"
     },
     "output_type": "display_data"
    }
   ],
   "source": [
    "# The length of reign for ?\n",
    "sns.boxplot(data=df, y='Length_of_reign', x='Cause_of_death')\n",
    "plt.xticks(np.arange(8), rotation=90)"
   ]
  },
  {
   "cell_type": "code",
   "execution_count": 7,
   "id": "ee925d03",
   "metadata": {},
   "outputs": [
    {
     "data": {
      "image/png": "[encoded data removed]",
      "text/plain": [
       "<Figure size 432x288 with 1 Axes>"
      ]
     },
     "metadata": {
      "needs_background": "light"
     },
     "output_type": "display_data"
    }
   ],
   "source": [
    "plt.hist(data=df, x='Length_of_reign', edgecolor='black')\n",
    "plt.show()"
   ]
  },
  {
   "cell_type": "code",
   "execution_count": 8,
   "id": "e0b59d76",
   "metadata": {},
   "outputs": [
    {
     "data": {
      "image/png": "[encoded data removed]",
      "text/plain": [
       "<Figure size 432x288 with 1 Axes>"
      ]
     },
     "metadata": {
      "needs_background": "light"
     },
     "output_type": "display_data"
    }
   ],
   "source": [
    "# most common cause of death is natural causes\n",
    "plt.hist(data=df, x='Cause_of_death', edgecolor='black')\n",
    "plt.xticks(np.arange(8), rotation=90)\n",
    "plt.show()"
   ]
  },
  {
   "cell_type": "code",
   "execution_count": 9,
   "id": "0cc12b16",
   "metadata": {},
   "outputs": [
    {
     "data": {
      "text/plain": [
       "<seaborn.axisgrid.FacetGrid at 0x7f8983cf8130>"
      ]
     },
     "execution_count": 9,
     "metadata": {},
     "output_type": "execute_result"
    },
    {
     "data": {
      "image/png": "[encoded data removed]",
      "text/plain": [
       "<Figure size 360x360 with 1 Axes>"
      ]
     },
     "metadata": {
      "needs_background": "light"
     },
     "output_type": "display_data"
    }
   ],
   "source": [
    "# no immortal emperors\n",
    "sns.relplot(x='Start_of_reign', y='End_of_reign', data=df)"
   ]
  },
  {
   "cell_type": "code",
   "execution_count": 10,
   "id": "22afd3ab",
   "metadata": {},
   "outputs": [
    {
     "data": {
      "text/plain": [
       "<seaborn.axisgrid.FacetGrid at 0x7f8983ee01c0>"
      ]
     },
     "execution_count": 10,
     "metadata": {},
     "output_type": "execute_result"
    },
    {
     "data": {
      "image/png": "[encoded data removed]",
      "text/plain": [
       "<Figure size 360x360 with 1 Axes>"
      ]
     },
     "metadata": {
      "needs_background": "light"
     },
     "output_type": "display_data"
    }
   ],
   "source": [
    "# Natural Causes was same throughout\n",
    "# Died on Campaign was more common an beginning of the empire\n",
    "# Unknown death was common at begining(lack of historical texts?)\n",
    "# Murder is infrequent\n",
    "# Accident seems random\n",
    "# Illness seems same throughout\n",
    "# Other Emperors is more common in the middle of the empire\n",
    "# Mutilated and deposed becomes increasingly more common\n",
    "# most common cause of death was natural causes\n",
    "sns.relplot(x='Year_of_death', y='Cause_of_death', data=df)"
   ]
  },
  {
   "cell_type": "code",
   "execution_count": 11,
   "id": "3db8de52",
   "metadata": {},
   "outputs": [
    {
     "data": {
      "text/plain": [
       "<seaborn.axisgrid.FacetGrid at 0x7f89840c19a0>"
      ]
     },
     "execution_count": 11,
     "metadata": {},
     "output_type": "execute_result"
    },
    {
     "data": {
      "image/png": "[encoded data removed]",
      "text/plain": [
       "<Figure size 360x360 with 1 Axes>"
      ]
     },
     "metadata": {
      "needs_background": "light"
     },
     "output_type": "display_data"
    }
   ],
   "source": [
    "# Non-dynastic emperors were common in the middle of the empire\n",
    "# discounting non-dynastic, there were 15 dynasties in total\n",
    "sns.relplot(x='Year_of_death', y='Dynasty', data=df)"
   ]
  },
  {
   "cell_type": "code",
   "execution_count": 12,
   "id": "a47b768b",
   "metadata": {},
   "outputs": [
    {
     "data": {
      "text/plain": [
       "95"
      ]
     },
     "execution_count": 12,
     "metadata": {},
     "output_type": "execute_result"
    }
   ],
   "source": [
    "# 95 emperors in total\n",
    "len(df)"
   ]
  },
  {
   "cell_type": "code",
   "execution_count": 13,
   "id": "db99e9f0",
   "metadata": {},
   "outputs": [
    {
     "data": {
      "text/plain": [
       "13.189473684210526"
      ]
     },
     "execution_count": 13,
     "metadata": {},
     "output_type": "execute_result"
    }
   ],
   "source": [
    "# The average length of reign is 13 years\n",
    "df['Length_of_reign'].sum() / len(df)"
   ]
  },
  {
   "cell_type": "code",
   "execution_count": 14,
   "id": "dabd9211",
   "metadata": {},
   "outputs": [
    {
     "data": {
      "text/plain": [
       "0.3894736842105263"
      ]
     },
     "execution_count": 14,
     "metadata": {},
     "output_type": "execute_result"
    }
   ],
   "source": [
    "# 37 Emperors were born in Constantinople, 38% of all emperors\n",
    "(len(df[df['Location_of_birth'] == 'Constantinople']))/95"
   ]
  },
  {
   "cell_type": "code",
   "execution_count": null,
   "id": "fc589b9f",
   "metadata": {},
   "outputs": [],
   "source": []
  }
 ],
 "metadata": {
  "kernelspec": {
   "display_name": "Python 3 (ipykernel)",
   "language": "python",
   "name": "python3"
  },
  "language_info": {
   "codemirror_mode": {
    "name": "ipython",
    "version": 3
   },
   "file_extension": ".py",
   "mimetype": "text/x-python",
   "name": "python",
   "nbconvert_exporter": "python",
   "pygments_lexer": "ipython3",
   "version": "3.9.12"
  }
 },
 "nbformat": 4,
 "nbformat_minor": 5
}
